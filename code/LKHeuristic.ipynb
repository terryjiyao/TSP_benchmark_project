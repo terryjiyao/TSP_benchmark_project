{
 "cells": [
  {
   "cell_type": "code",
   "execution_count": 1,
   "metadata": {},
   "outputs": [],
   "source": [
    "import csv\n",
    "import itertools\n",
    "import numpy as np\n",
    "from scipy.spatial import distance_matrix\n",
    "\n",
    "def get_dist_kaggle(file_path):\n",
    "    coordinates = []\n",
    "    with open(file_path, newline='', encoding='utf-8') as csvfile:\n",
    "        reader = csv.reader(csvfile) \n",
    "        for row in reader:\n",
    "            coordinates.append([float(row[0]), float(row[1])])\n",
    "    coordinates = np.array(coordinates)\n",
    "    dist_matrix = distance_matrix(coordinates, coordinates)\n",
    "    return dist_matrix\n",
    "\n",
    "def calcTourLength(hamPath, dist_matrix):\n",
    "    tourLength=sum(dist_matrix[hamPath[0:-1], hamPath[1:len(hamPath)]])\n",
    "    tourLength+=dist_matrix[hamPath[-1],hamPath[0]]\n",
    "    return tourLength\n",
    "\n",
    "def get_dist_tsplib(file_path):\n",
    "    coordinates = []\n",
    "    with open(file_path, newline='', encoding='utf-8') as csvfile:\n",
    "        reader = csv.reader(csvfile) \n",
    "        inside_coords = False\n",
    "        for row in reader:\n",
    "            if row and row[0] == 'NODE_COORD_SECTION':  # Start reading coordinates\n",
    "                inside_coords = True\n",
    "                continue\n",
    "            if row and row[0] == 'EOF':  # End of coordinates section\n",
    "                inside_coords = False\n",
    "                continue\n",
    "            \n",
    "            if inside_coords:\n",
    "                # Extract coordinates (ignore the city number)\n",
    "                x, y = row[0].split(\" \")[1], row[0].split(\" \")[2]\n",
    "                coordinates.append((float(x), float(y)))\n",
    "    dist_matrix = distance_matrix(coordinates, coordinates)\n",
    "    return dist_matrix\n",
    "\n",
    "def LK_heuristic(dist_matrix):\n",
    "    \"\"\"\n",
    "    Implementation of Lin-Kernighan, an heuristic algorithm that solves the Traveling\n",
    "    Salesman Problem using random swapping.\n",
    "\n",
    "    Parameters:\n",
    "        dists: distance matrix\n",
    "\n",
    "    Returns:\n",
    "        A tuple, (cost, path).\n",
    "    \"\"\"\n",
    "    #Generate initial tour\n",
    "    optlist = list(range(0, len(dist_matrix)))\n",
    "    improvement=1\n",
    "\n",
    "    while (improvement > 0):    #Check for every pair of cities that are neighbors in the tour whether improvement can be found\n",
    "        bestTourLength = calcTourLength(optlist, dist_matrix)\n",
    "        bestListSoFar = optlist\n",
    "        improvement = -1\n",
    "        \n",
    "        for i in range(0, len(optlist)):\n",
    "            #Given a pair of cities, find the swap that attains minimum distance with respect to current tour\n",
    "            for j in range(2, len(optlist)-1):\n",
    "                #Do a swap and see if tour length improves\n",
    "                tempOptList = optlist[0:j]+optlist[:j-1:-1]\n",
    "                tempTourLength = calcTourLength(tempOptList, dist_matrix)\n",
    "                if(tempTourLength + 10e-12 < bestTourLength):\n",
    "                    improvement = bestTourLength - tempTourLength\n",
    "                    bestListSoFar = tempOptList\n",
    "                    bestTourLength = tempTourLength\n",
    "            if(bestTourLength+10e-12 < calcTourLength(optlist, dist_matrix)):\n",
    "                optlist = bestListSoFar\n",
    "                break\n",
    "            optlist = [optlist[0]] + [optlist[-1]] + optlist[1:-1]\n",
    "\n",
    "    # Calculate optimal cost\n",
    "        opt = 0\n",
    "        for k in range(len(optlist)-2):\n",
    "            opt += dist_matrix[k, k+1]\n",
    "            \n",
    "    return opt, optlist"
   ]
  },
  {
   "cell_type": "code",
   "execution_count": 2,
   "metadata": {},
   "outputs": [
    {
     "name": "stdout",
     "output_type": "stream",
     "text": [
      "18.785708675082084 [0, 1, 2, 9, 8, 7, 6, 5, 4, 3]\n"
     ]
    }
   ],
   "source": [
    "file_path = 'D:/Upenn/Numerical Analysis2/GroupProject/Dataset/tiny.csv'\n",
    "dist_matrix = get_dist_kaggle(file_path)\n",
    "opt, path = LK_heuristic(dist_matrix)\n",
    "print(opt, path)"
   ]
  }
 ],
 "metadata": {
  "kernelspec": {
   "display_name": ".conda",
   "language": "python",
   "name": "python3"
  },
  "language_info": {
   "codemirror_mode": {
    "name": "ipython",
    "version": 3
   },
   "file_extension": ".py",
   "mimetype": "text/x-python",
   "name": "python",
   "nbconvert_exporter": "python",
   "pygments_lexer": "ipython3",
   "version": "3.10.16"
  }
 },
 "nbformat": 4,
 "nbformat_minor": 2
}
